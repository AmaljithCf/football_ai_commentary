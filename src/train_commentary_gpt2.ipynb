{
  "nbformat": 4,
  "nbformat_minor": 0,
  "metadata": {
    "colab": {
      "name": "train_commentary_gpt2.ipynb",
      "version": "0.3.2",
      "provenance": [],
      "collapsed_sections": [],
      "toc_visible": true
    },
    "kernelspec": {
      "name": "python3",
      "display_name": "Python 3"
    },
    "accelerator": "GPU"
  },
  "cells": [
    {
      "cell_type": "markdown",
      "metadata": {
        "id": "bj0p_tUOy6hx",
        "colab_type": "text"
      },
      "source": [
        "# AI generated sports commentary \\[[blog](https://medium.com/@chintan.t93)\\] \\[[video](https://youtube.com/c/DeepGamingAI)\\] \\[[code](https://github.com/ChintanTrivedi)\\]\n",
        "\n",
        "This notebook is for training a GPT-2 language model to perform on-the-fly commentary for football/soccer games.\n"
      ]
    },
    {
      "cell_type": "markdown",
      "metadata": {
        "id": "AX8BYebL2A4_",
        "colab_type": "text"
      },
      "source": [
        "## Setup\n",
        "Clone the GPT-2 repo, install dependencies and download the pre-trained model. "
      ]
    },
    {
      "cell_type": "code",
      "metadata": {
        "id": "qK-kzkdMpDyy",
        "colab_type": "code",
        "colab": {}
      },
      "source": [
        "!git clone https://github.com/nshepperd/gpt-2.git\n",
        "%cd gpt-2\n",
        "!pip3 install -r requirements.txt\n",
        "!python3 download_model.py 345M\n",
        "!pip install webvtt-py youtube_dl"
      ],
      "execution_count": 0,
      "outputs": []
    },
    {
      "cell_type": "markdown",
      "metadata": {
        "id": "ngNvRdjr3uFe",
        "colab_type": "text"
      },
      "source": [
        "## Train GPT-2\n",
        "\n",
        "### Training Data \n",
        "- Using YouTube videos of full matches of FIFA and PES video games providing commentary in its audio\n",
        "- Currently using manual or automated captions obtained directly from YouTube API.\n",
        "- Captions are downloaded in .webvtt format, which are converted to plain text transcript\n",
        "- Unfortunately, this does not provide any punctuations in the text, so need to look into alternate text-to-speech options (ones I tried currently do not work)\n"
      ]
    },
    {
      "cell_type": "code",
      "metadata": {
        "id": "PDuIWwqNhQFX",
        "colab_type": "code",
        "colab": {}
      },
      "source": [
        "download_training_data = True # required only if you're looking to retrain\n",
        "\n",
        "if download_training_data:\n",
        "  # YouTube URLs of full FIFa/PES matches with uninterrupted game commentary\n",
        "  urls = [\n",
        "      'https://www.youtube.com/watch?v=_QL2Vr-Rbhk',    'https://www.youtube.com/watch?v=vW2pn2LsrZU',    'https://www.youtube.com/watch?v=795ttHjcuNA',\n",
        "      'https://www.youtube.com/watch?v=g8IVEuGy3dk',    'https://www.youtube.com/watch?v=4Kq4hoCWG4c',    'https://www.youtube.com/watch?v=43FbmrkHoiY',\n",
        "      'https://www.youtube.com/watch?v=O6lVXP1XJrc',    'https://www.youtube.com/watch?v=51Lal4CqJfM',    'https://www.youtube.com/watch?v=-9JXEzCUmKE',\n",
        "      'https://www.youtube.com/watch?v=r7bsamy9n5c',    'https://www.youtube.com/watch?v=tFf5HiuK6v0',    'https://www.youtube.com/watch?v=Na44QV_Q7ic',\n",
        "      'https://www.youtube.com/watch?v=iKkkRqBL3pM',    'https://www.youtube.com/watch?v=NWBKXU5boRg',    'https://www.youtube.com/watch?v=A68hJll7Us4',\n",
        "      'https://www.youtube.com/watch?v=Ch-1BQmTzWI',    'https://www.youtube.com/watch?v=67roKfGj_Fo',    'https://www.youtube.com/watch?v=Euei-fpFlrQ',\n",
        "      'https://www.youtube.com/watch?v=2JS_6foNnP8',    'https://www.youtube.com/watch?v=pDsabB1HVAM',    'https://www.youtube.com/watch?v=6_h6FpHnuIs',\n",
        "      'https://www.youtube.com/watch?v=PkSv__cAYfw',    'https://www.youtube.com/watch?v=gRUWMIL9l8g',    'https://www.youtube.com/watch?v=s-iqqWnmgkc',\n",
        "      'https://www.youtube.com/watch?v=mOFAP0KF2x4',    'https://www.youtube.com/watch?v=E1I9eof_szE',    'https://www.youtube.com/watch?v=fZxanp6sP8c',\n",
        "      'https://www.youtube.com/watch?v=l3VQ1jC2Iyg',    'https://www.youtube.com/watch?v=l3VQ1jC2Iyg',    'https://www.youtube.com/watch?v=l3VQ1jC2Iyg',\n",
        "      'https://www.youtube.com/watch?v=qrKbmzYGLEM',    'https://www.youtube.com/watch?v=B8ImIuKQSHg',    'https://www.youtube.com/watch?v=xGh4GciXPQk',\n",
        "      'https://www.youtube.com/watch?v=1ISKxiGw4K8',    'https://www.youtube.com/watch?v=ShkyV3DyTD4',    'https://www.youtube.com/watch?v=XYlDNfS48sg',\n",
        "      'https://www.youtube.com/watch?v=_jT2uZLxA7o',    'https://www.youtube.com/watch?v=TNMG98EhKLU',    'https://www.youtube.com/watch?v=TRX-BmKdltY',\n",
        "      'https://www.youtube.com/watch?v=nAEvAxInIV0',    'https://www.youtube.com/watch?v=RWaOoa0UMcI',    'https://www.youtube.com/watch?v=XJRLRxDC3x0',\n",
        "      'https://www.youtube.com/watch?v=Ye4cVwfSdAc',    'https://www.youtube.com/watch?v=cF3junSjIAA',    'https://www.youtube.com/watch?v=d18-39m9NoE',\n",
        "      'https://www.youtube.com/watch?v=rzOddgKPPtI',    'https://www.youtube.com/watch?v=px4EAg0Vbg4',    'https://www.youtube.com/watch?v=-DQuJTTcbdw',\n",
        "      'https://www.youtube.com/watch?v=3_B3smljvkQ',    'https://www.youtube.com/watch?v=3us3vUoLkac',    'https://www.youtube.com/watch?v=ol4WW_IVGOQ',\n",
        "      'https://www.youtube.com/watch?v=2cLT4mTqWz4',    'https://www.youtube.com/watch?v=TPZPB2uCh8k',    'https://www.youtube.com/watch?v=JuDngE09WhE',\n",
        "      'https://www.youtube.com/watch?v=9rRp2gDE7Yc',    'https://www.youtube.com/watch?v=hqrlgNP7E-0',    'https://www.youtube.com/watch?v=fXhf9Yh7tf8',\n",
        "      'https://www.youtube.com/watch?v=jV3FUzCqQAQ',    'https://www.youtube.com/watch?v=uhBw9DO-z7A',    'https://www.youtube.com/watch?v=rczhz6xeIfQ'\n",
        "  ]\n",
        "\n",
        "  import webvtt\n",
        "  import requests\n",
        "  import os\n",
        "  import youtube_dl\n",
        "  import re\n",
        "\n",
        "  if not os.path.exists('captions'):\n",
        "      os.makedirs('captions')\n",
        "\n",
        "  # final training data file for all videos combined    \n",
        "  f_train = open(\"commentary_train.txt\", \"w\")\n",
        "\n",
        "  # download captions only for all urls\n",
        "  for ix, url in enumerate(urls):\n",
        "    ydl = youtube_dl.YoutubeDL({'writesubtitles': True, 'allsubtitles': True, 'writeautomaticsub': True})\n",
        "    res = ydl.extract_info(url, download=False)\n",
        "    if res['requested_subtitles'] and res['requested_subtitles']['en']:\n",
        "      print('Grabbing vtt file from ' + res['requested_subtitles']['en']['url'])\n",
        "      response = requests.get(res['requested_subtitles']['en']['url'], stream=True)\n",
        "\n",
        "      f1 = open(\"captions/commentary{}.txt\".format(ix), \"w\")\n",
        "      f1.write(response.text)\n",
        "      f1.close()\n",
        "      if len(res['subtitles']) > 0:\n",
        "        print('manual captions')\n",
        "      else:\n",
        "        print('automatic_captions')\n",
        "    else:\n",
        "      print('Youtube Video does not have any english captions')\n",
        "      continue\n",
        "\n",
        "    # convert downloaded webvtt file to plain text transcript\n",
        "    vtt = webvtt.read(\"captions/commentary{}.txt\".format(ix))\n",
        "    transcript = \"\"\n",
        "\n",
        "    lines = []\n",
        "    for line in vtt:\n",
        "        lines.extend(line.text.strip().splitlines())\n",
        "\n",
        "    previous = None\n",
        "    for line in lines:\n",
        "        if line == previous:\n",
        "           continue\n",
        "        transcript += \" \" + line\n",
        "        previous = line\n",
        "\n",
        "    print(transcript)\n",
        "    # replace [Music] and [Applause] keywords that appear in youtube captions before writing transcript\n",
        "    f_train.write(re.sub('\\[.*?\\]','',transcript)+'\\n')\n",
        "\n",
        "  f_train.close()"
      ],
      "execution_count": 0,
      "outputs": []
    },
    {
      "cell_type": "markdown",
      "metadata": {
        "id": "PydIq05L9rct",
        "colab_type": "text"
      },
      "source": [
        "## Model Training\n",
        "- Uncomment the following and run to train again"
      ]
    },
    {
      "cell_type": "code",
      "metadata": {
        "id": "p4nTK-zT9r2-",
        "colab_type": "code",
        "colab": {}
      },
      "source": [
        "# !PYTHONPATH=src ./train.py --dataset /content/gpt-2/training_data.txt --model_name '345M'\n",
        "!cp -r /content/gpt-2/checkpoint/run1/* /content/gpt-2/models/345M/\n",
        "# !cp -r /content/gpt-2/checkpoint/ /content/drive/My\\ Drive/\n",
        "# !cp -r /content/gpt-2/checkpoint/run1/* /content/gpt-2/models/345M/"
      ],
      "execution_count": 0,
      "outputs": []
    },
    {
      "cell_type": "markdown",
      "metadata": {
        "id": "_w4tRxnuiE4K",
        "colab_type": "text"
      },
      "source": [
        ""
      ]
    },
    {
      "cell_type": "markdown",
      "metadata": {
        "id": "xWOLAyMnBk32",
        "colab_type": "text"
      },
      "source": [
        "- Here, I'm just going to pull the model I've trained before from my Google Drive"
      ]
    },
    {
      "cell_type": "code",
      "metadata": {
        "id": "YhKq2gwlDFvg",
        "colab_type": "code",
        "outputId": "c80bce59-6f8a-4395-eda4-354530dc906a",
        "colab": {
          "base_uri": "https://localhost:8080/",
          "height": 122
        }
      },
      "source": [
        "from google.colab import drive\n",
        "drive.mount('/content/drive')\n",
        "# !zip run1.zip ./checkpoint/run1/*\n",
        "!cp run_2.zip /content/drive/My\\ Drive/"
      ],
      "execution_count": 0,
      "outputs": [
        {
          "output_type": "stream",
          "text": [
            "Go to this URL in a browser: https://accounts.google.com/o/oauth2/auth?client_id=947318989803-6bn6qk8qdgf4n4g3pfee6491hc0brc4i.apps.googleusercontent.com&redirect_uri=urn%3Aietf%3Awg%3Aoauth%3A2.0%3Aoob&scope=email%20https%3A%2F%2Fwww.googleapis.com%2Fauth%2Fdocs.test%20https%3A%2F%2Fwww.googleapis.com%2Fauth%2Fdrive%20https%3A%2F%2Fwww.googleapis.com%2Fauth%2Fdrive.photos.readonly%20https%3A%2F%2Fwww.googleapis.com%2Fauth%2Fpeopleapi.readonly&response_type=code\n",
            "\n",
            "Enter your authorization code:\n",
            "··········\n",
            "Mounted at /content/drive\n"
          ],
          "name": "stdout"
        }
      ]
    },
    {
      "cell_type": "code",
      "metadata": {
        "id": "nYWnuekZHhef",
        "colab_type": "code",
        "colab": {}
      },
      "source": [
        "# !cp -r /content/drive/My\\ Drive/checkpoint/run1/* /content/gpt-2/models/345M/"
      ],
      "execution_count": 0,
      "outputs": []
    },
    {
      "cell_type": "code",
      "metadata": {
        "id": "qJKCVIILFFR6",
        "colab_type": "code",
        "colab": {}
      },
      "source": [
        "%cd models/345M/\n",
        "!rm checkpoint\n",
        "!wget --load-cookies /tmp/cookies.txt \"https://docs.google.com/uc?export=download&confirm=$(wget --quiet --save-cookies /tmp/cookies.txt --keep-session-cookies --no-check-certificate 'https://docs.google.com/uc?export=download&id=1iTRezA2oe2B58wDx3FcZosqdcyD06Kwt' -O- | sed -rn 's/.*confirm=([0-9A-Za-z_]+).*/\\1\\n/p')&id=1iTRezA2oe2B58wDx3FcZosqdcyD06Kwt\" -O run1.zip && rm -rf /tmp/cookies.txt\n",
        "!unzip run1.zip\n",
        "%cd ../.."
      ],
      "execution_count": 0,
      "outputs": []
    },
    {
      "cell_type": "markdown",
      "metadata": {
        "id": "ORykR3UrCCFr",
        "colab_type": "text"
      },
      "source": [
        "## Play with the model's conditional samples using a prompt\n",
        "Example of prompts: \n",
        "- That was a really poor pass. You expect a player of his quality to do better.\n",
        "- What a goal! Wonderful strike from the team captain.\n",
        "- Welcome to today's game between two top teams in Europe."
      ]
    },
    {
      "cell_type": "code",
      "metadata": {
        "id": "NXcnxfPHJFVZ",
        "colab_type": "code",
        "outputId": "586a6c5c-2fa1-4fb3-c635-4251f0fd0be0",
        "colab": {
          "base_uri": "https://localhost:8080/",
          "height": 1839
        }
      },
      "source": [
        "!python3 src/interactive_conditional_samples.py --top_k 40 --model_name \"345M\""
      ],
      "execution_count": 0,
      "outputs": [
        {
          "output_type": "stream",
          "text": [
            "WARNING: Logging before flag parsing goes to stderr.\n",
            "W0623 13:48:03.940105 140125351761792 deprecation_wrapper.py:119] From /content/gpt-2/src/model.py:147: The name tf.AUTO_REUSE is deprecated. Please use tf.compat.v1.AUTO_REUSE instead.\n",
            "\n",
            "W0623 13:48:04.280864 140125351761792 deprecation_wrapper.py:119] From src/interactive_conditional_samples.py:55: The name tf.Session is deprecated. Please use tf.compat.v1.Session instead.\n",
            "\n",
            "2019-06-23 13:48:04.294242: I tensorflow/stream_executor/platform/default/dso_loader.cc:42] Successfully opened dynamic library libcuda.so.1\n",
            "2019-06-23 13:48:04.347141: I tensorflow/stream_executor/cuda/cuda_gpu_executor.cc:1005] successful NUMA node read from SysFS had negative value (-1), but there must be at least one NUMA node, so returning NUMA node zero\n",
            "2019-06-23 13:48:04.347561: I tensorflow/core/common_runtime/gpu/gpu_device.cc:1640] Found device 0 with properties: \n",
            "name: Tesla T4 major: 7 minor: 5 memoryClockRate(GHz): 1.59\n",
            "pciBusID: 0000:00:04.0\n",
            "2019-06-23 13:48:04.351267: I tensorflow/stream_executor/platform/default/dso_loader.cc:42] Successfully opened dynamic library libcudart.so.10.0\n",
            "2019-06-23 13:48:04.359439: I tensorflow/stream_executor/platform/default/dso_loader.cc:42] Successfully opened dynamic library libcublas.so.10.0\n",
            "2019-06-23 13:48:04.363587: I tensorflow/stream_executor/platform/default/dso_loader.cc:42] Successfully opened dynamic library libcufft.so.10.0\n",
            "2019-06-23 13:48:04.373217: I tensorflow/stream_executor/platform/default/dso_loader.cc:42] Successfully opened dynamic library libcurand.so.10.0\n",
            "2019-06-23 13:48:04.384413: I tensorflow/stream_executor/platform/default/dso_loader.cc:42] Successfully opened dynamic library libcusolver.so.10.0\n",
            "2019-06-23 13:48:04.390938: I tensorflow/stream_executor/platform/default/dso_loader.cc:42] Successfully opened dynamic library libcusparse.so.10.0\n",
            "2019-06-23 13:48:04.404473: I tensorflow/stream_executor/platform/default/dso_loader.cc:42] Successfully opened dynamic library libcudnn.so.7\n",
            "2019-06-23 13:48:04.404654: I tensorflow/stream_executor/cuda/cuda_gpu_executor.cc:1005] successful NUMA node read from SysFS had negative value (-1), but there must be at least one NUMA node, so returning NUMA node zero\n",
            "2019-06-23 13:48:04.405329: I tensorflow/stream_executor/cuda/cuda_gpu_executor.cc:1005] successful NUMA node read from SysFS had negative value (-1), but there must be at least one NUMA node, so returning NUMA node zero\n",
            "2019-06-23 13:48:04.405850: I tensorflow/core/common_runtime/gpu/gpu_device.cc:1763] Adding visible gpu devices: 0\n",
            "2019-06-23 13:48:04.413511: I tensorflow/core/platform/profile_utils/cpu_utils.cc:94] CPU Frequency: 2300000000 Hz\n",
            "2019-06-23 13:48:04.413704: I tensorflow/compiler/xla/service/service.cc:168] XLA service 0x2be1480 executing computations on platform Host. Devices:\n",
            "2019-06-23 13:48:04.413731: I tensorflow/compiler/xla/service/service.cc:175]   StreamExecutor device (0): <undefined>, <undefined>\n",
            "2019-06-23 13:48:04.562407: I tensorflow/stream_executor/cuda/cuda_gpu_executor.cc:1005] successful NUMA node read from SysFS had negative value (-1), but there must be at least one NUMA node, so returning NUMA node zero\n",
            "2019-06-23 13:48:04.562934: I tensorflow/compiler/xla/service/service.cc:168] XLA service 0x2be0a00 executing computations on platform CUDA. Devices:\n",
            "2019-06-23 13:48:04.562962: I tensorflow/compiler/xla/service/service.cc:175]   StreamExecutor device (0): Tesla T4, Compute Capability 7.5\n",
            "2019-06-23 13:48:04.563178: I tensorflow/stream_executor/cuda/cuda_gpu_executor.cc:1005] successful NUMA node read from SysFS had negative value (-1), but there must be at least one NUMA node, so returning NUMA node zero\n",
            "2019-06-23 13:48:04.563527: I tensorflow/core/common_runtime/gpu/gpu_device.cc:1640] Found device 0 with properties: \n",
            "name: Tesla T4 major: 7 minor: 5 memoryClockRate(GHz): 1.59\n",
            "pciBusID: 0000:00:04.0\n",
            "2019-06-23 13:48:04.563598: I tensorflow/stream_executor/platform/default/dso_loader.cc:42] Successfully opened dynamic library libcudart.so.10.0\n",
            "2019-06-23 13:48:04.563620: I tensorflow/stream_executor/platform/default/dso_loader.cc:42] Successfully opened dynamic library libcublas.so.10.0\n",
            "2019-06-23 13:48:04.563642: I tensorflow/stream_executor/platform/default/dso_loader.cc:42] Successfully opened dynamic library libcufft.so.10.0\n",
            "2019-06-23 13:48:04.563662: I tensorflow/stream_executor/platform/default/dso_loader.cc:42] Successfully opened dynamic library libcurand.so.10.0\n",
            "2019-06-23 13:48:04.563684: I tensorflow/stream_executor/platform/default/dso_loader.cc:42] Successfully opened dynamic library libcusolver.so.10.0\n",
            "2019-06-23 13:48:04.563704: I tensorflow/stream_executor/platform/default/dso_loader.cc:42] Successfully opened dynamic library libcusparse.so.10.0\n",
            "2019-06-23 13:48:04.563726: I tensorflow/stream_executor/platform/default/dso_loader.cc:42] Successfully opened dynamic library libcudnn.so.7\n",
            "2019-06-23 13:48:04.563811: I tensorflow/stream_executor/cuda/cuda_gpu_executor.cc:1005] successful NUMA node read from SysFS had negative value (-1), but there must be at least one NUMA node, so returning NUMA node zero\n",
            "2019-06-23 13:48:04.564275: I tensorflow/stream_executor/cuda/cuda_gpu_executor.cc:1005] successful NUMA node read from SysFS had negative value (-1), but there must be at least one NUMA node, so returning NUMA node zero\n",
            "2019-06-23 13:48:04.564601: I tensorflow/core/common_runtime/gpu/gpu_device.cc:1763] Adding visible gpu devices: 0\n",
            "2019-06-23 13:48:04.564658: I tensorflow/stream_executor/platform/default/dso_loader.cc:42] Successfully opened dynamic library libcudart.so.10.0\n",
            "2019-06-23 13:48:04.565610: I tensorflow/core/common_runtime/gpu/gpu_device.cc:1181] Device interconnect StreamExecutor with strength 1 edge matrix:\n",
            "2019-06-23 13:48:04.565637: I tensorflow/core/common_runtime/gpu/gpu_device.cc:1187]      0 \n",
            "2019-06-23 13:48:04.565649: I tensorflow/core/common_runtime/gpu/gpu_device.cc:1200] 0:   N \n",
            "2019-06-23 13:48:04.565985: I tensorflow/stream_executor/cuda/cuda_gpu_executor.cc:1005] successful NUMA node read from SysFS had negative value (-1), but there must be at least one NUMA node, so returning NUMA node zero\n",
            "2019-06-23 13:48:04.566412: I tensorflow/stream_executor/cuda/cuda_gpu_executor.cc:1005] successful NUMA node read from SysFS had negative value (-1), but there must be at least one NUMA node, so returning NUMA node zero\n",
            "2019-06-23 13:48:04.566754: W tensorflow/core/common_runtime/gpu/gpu_bfc_allocator.cc:40] Overriding allow_growth setting because the TF_FORCE_GPU_ALLOW_GROWTH environment variable is set. Original config value was 0.\n",
            "2019-06-23 13:48:04.566795: I tensorflow/core/common_runtime/gpu/gpu_device.cc:1326] Created TensorFlow device (/job:localhost/replica:0/task:0/device:GPU:0 with 14202 MB memory) -> physical GPU (device: 0, name: Tesla T4, pci bus id: 0000:00:04.0, compute capability: 7.5)\n",
            "W0623 13:48:04.567463 140125351761792 deprecation_wrapper.py:119] From src/interactive_conditional_samples.py:56: The name tf.placeholder is deprecated. Please use tf.compat.v1.placeholder instead.\n",
            "\n",
            "W0623 13:48:04.568992 140125351761792 deprecation_wrapper.py:119] From src/interactive_conditional_samples.py:58: The name tf.set_random_seed is deprecated. Please use tf.compat.v1.set_random_seed instead.\n",
            "\n",
            "W0623 13:48:04.572066 140125351761792 deprecation_wrapper.py:119] From /content/gpt-2/src/model.py:148: The name tf.variable_scope is deprecated. Please use tf.compat.v1.variable_scope instead.\n",
            "\n",
            "W0623 13:48:12.212035 140125351761792 deprecation.py:323] From /content/gpt-2/src/sample.py:65: to_float (from tensorflow.python.ops.math_ops) is deprecated and will be removed in a future version.\n",
            "Instructions for updating:\n",
            "Use `tf.cast` instead.\n",
            "W0623 13:48:12.227029 140125351761792 deprecation.py:323] From /content/gpt-2/src/sample.py:16: add_dispatch_support.<locals>.wrapper (from tensorflow.python.ops.array_ops) is deprecated and will be removed in a future version.\n",
            "Instructions for updating:\n",
            "Use tf.where in 2.0, which has the same broadcast rule as np.where\n",
            "W0623 13:48:12.228716 140125351761792 deprecation.py:323] From /content/gpt-2/src/sample.py:70: multinomial (from tensorflow.python.ops.random_ops) is deprecated and will be removed in a future version.\n",
            "Instructions for updating:\n",
            "Use `tf.random.categorical` instead.\n",
            "W0623 13:48:12.238183 140125351761792 deprecation_wrapper.py:119] From src/interactive_conditional_samples.py:66: The name tf.train.Saver is deprecated. Please use tf.compat.v1.train.Saver instead.\n",
            "\n",
            "W0623 13:48:12.491727 140125351761792 deprecation.py:323] From /usr/local/lib/python3.6/dist-packages/tensorflow/python/training/saver.py:1276: checkpoint_exists (from tensorflow.python.training.checkpoint_management) is deprecated and will be removed in a future version.\n",
            "Instructions for updating:\n",
            "Use standard file APIs to check for files with this prefix.\n",
            "Model prompt >>> The football match is starting from the first minute with a kickoff of the ball. \n",
            "2019-06-23 13:48:33.068277: I tensorflow/stream_executor/platform/default/dso_loader.cc:42] Successfully opened dynamic library libcublas.so.10.0\n",
            "======================================== SAMPLE 1 ========================================\n",
            " Barcelona against Real Madrid well this is a matchup between two giants of the modern game the two giants of the modern game are marked by their high-tech paraphernalia and their football strategies of going for the trequartista as much as possible and as little opposition provocation as possible. And much as our opponents might assume the former merely needs to put on the football pitch and the latter cannot stress this point enough is that they remain one of the most highly regarded institutions in world football. Yes I remember watching Barcelona play for the first time in 1958 and being hooked from the first minute. Even then there were those in the stands who would go and revisit those magical days but there is nothing quite like going back to those early days and being there again.\n",
            "The football match is starting from the first minute with a kickoff of the ball. Hi there everybody Martin Tyler here along with Alan Smith and our match today comes from the Premier League. The City of Manchester we've got Manchester City against Manchester United but the whole area it's infected with football enthusiasm and now Manchester City can take on Manchester United really head-to-head. Yeah can't they just the noisy neighbours are here to stay I think and this one should be close. Everything seemingly on the up at Manchester City choice of managers, the development of the stadium, very good academy for young players as well, very bright on their side of Manchester. Yeah I think they're doing it the right way improving the infrastructure. It's been sound management from the top. Getting bigger and better I'm sure almost every time we come to the Etihad Stadium. A new tear opened relatively recently to increase the capacity and Manchester City enjoying that kind of success that will bring even newer fans to their home. Yeah they've shared some great memories with now a couple of title wins. Some Man City fans might still pine for the days of main road but we're right in the 21st century with this place. Referee is Neil Swarbrick. Manchester City starting this first half. \n",
            "The football match is starting from the first minute with a kickoff of the ball. A big moment is here in the Champions League final of all welcome from the Manuel Neuer-less Manuel Neuer. It's Barcelona against Real Madrid Josep Maria Bartomeu's side. It's the final in the Champions League final and it's the last match of the group stages. Everything seemingly on the up at the Santiago Bernabeu in terms of the facilities involved, the design of the stadium, the way that the games\n",
            "================================================================================\n",
            "Model prompt >>> Traceback (most recent call last):\n",
            "  File \"/usr/lib/python3.6/contextlib.py\", line 99, in __exit__\n",
            "    self.gen.throw(type, value, traceback)\n",
            "  File \"/usr/local/lib/python3.6/dist-packages/tensorflow/python/framework/ops.py\", line 5652, in get_controller\n",
            "    yield g\n",
            "  File \"src/interactive_conditional_samples.py\", line 71, in interact_model\n",
            "    raw_text = input(\"Model prompt >>> \")\n",
            "KeyboardInterrupt\n",
            "\n",
            "During handling of the above exception, another exception occurred:\n",
            "\n",
            "Traceback (most recent call last):\n",
            "  File \"src/interactive_conditional_samples.py\", line 89, in <module>\n",
            "    fire.Fire(interact_model)\n",
            "  File \"/usr/local/lib/python3.6/dist-packages/fire/core.py\", line 127, in Fire\n",
            "    component_trace = _Fire(component, args, context, name)\n",
            "  File \"/usr/local/lib/python3.6/dist-packages/fire/core.py\", line 366, in _Fire\n",
            "    component, remaining_args)\n",
            "  File \"/usr/local/lib/python3.6/dist-packages/fire/core.py\", line 542, in _CallCallable\n",
            "    result = fn(*varargs, **kwargs)\n",
            "  File \"src/interactive_conditional_samples.py\", line 86, in interact_model\n",
            "    print(\"=\" * 80)\n",
            "  File \"/usr/local/lib/python3.6/dist-packages/tensorflow/python/client/session.py\", line 1618, in __exit__\n",
            "    close_thread.start()\n",
            "  File \"/usr/lib/python3.6/threading.py\", line 851, in start\n",
            "    self._started.wait()\n",
            "  File \"/usr/lib/python3.6/threading.py\", line 551, in wait\n",
            "    signaled = self._cond.wait(timeout)\n",
            "  File \"/usr/lib/python3.6/threading.py\", line 295, in wait\n",
            "    waiter.acquire()\n",
            "KeyboardInterrupt\n"
          ],
          "name": "stdout"
        }
      ]
    },
    {
      "cell_type": "markdown",
      "metadata": {
        "id": "VcTx_w66BxAR",
        "colab_type": "text"
      },
      "source": [
        "# EXPERIMENTAL CODE\n",
        "\n",
        "## Freeze model checkpoint to pb file for real-time inference"
      ]
    },
    {
      "cell_type": "code",
      "metadata": {
        "id": "h0JRKLAaKf6J",
        "colab_type": "code",
        "colab": {}
      },
      "source": [
        "# import fire\n",
        "# import json\n",
        "# import os\n",
        "# import numpy as np\n",
        "# import tensorflow as tf\n",
        "\n",
        "# import model, sample, encoder\n",
        "\n",
        "# seed=None\n",
        "# length=40\n",
        "# temperature=1\n",
        "# top_k=0\n",
        "\n",
        "# hparams = model.default_hparams()\n",
        "# with open('models/345M/hparams.json') as f:\n",
        "#   hparams.override_from_dict(json.load(f))\n",
        "\n",
        "# with tf.Session(graph=tf.Graph()) as sess:\n",
        "#   context = tf.placeholder(tf.int32, [1, None])\n",
        "#   np.random.seed(seed)\n",
        "#   tf.set_random_seed(seed)\n",
        "#   output = sample.sample_sequence(\n",
        "#       hparams=hparams, length=length,\n",
        "#       context=context,\n",
        "#       batch_size=1,\n",
        "#       temperature=temperature, top_k=top_k\n",
        "#   )\n",
        "\n",
        "#   saver = tf.train.Saver()\n",
        "#   ckpt = tf.train.latest_checkpoint(os.path.join('models', '345M'))\n",
        "#   saver.restore(sess, ckpt)\n",
        "  \n",
        "#   print([n.name for n in tf.get_default_graph().as_graph_def().node])\n",
        "  \n",
        "#   # Freeze the graph\n",
        "#   frozen_graph_def = tf.graph_util.convert_variables_to_constants(sess,sess.graph_def,[output.name])\n",
        "  \n",
        "#   # Save the frozen graph\n",
        "#   with open('output_graph.pb', 'wb') as f:\n",
        "#     f.write(frozen_graph_def.SerializeToString())"
      ],
      "execution_count": 0,
      "outputs": []
    },
    {
      "cell_type": "markdown",
      "metadata": {
        "id": "Y1d9wD1mC0--",
        "colab_type": "text"
      },
      "source": [
        "## Alternate speech to text methods"
      ]
    },
    {
      "cell_type": "code",
      "metadata": {
        "id": "RhAXIkA3ZOP4",
        "colab_type": "code",
        "colab": {}
      },
      "source": [
        "# !pip install youtube_dl\n",
        "# import youtube_dl\n",
        "\n",
        "# from __future__ import unicode_literals\n",
        "# import youtube_dl\n",
        "\n",
        "\n",
        "# ydl_opts = {\n",
        "#     'format': 'bestaudio/best',\n",
        "#     'postprocessors': [{\n",
        "#         'key': 'FFmpegExtractAudio',\n",
        "#         'preferredcodec': 'wav',\n",
        "#         'preferredquality': '192',\n",
        "#     }],\n",
        "# }\n",
        "# with youtube_dl.YoutubeDL(ydl_opts) as ydl:\n",
        "#     ydl.download(['https://www.youtube.com/watch?v=vW2pn2LsrZU'])\n",
        "\n",
        "# !pip install SpeechRecognition\n",
        "\n",
        "# # import speech_recognition as sr\n",
        "# r = sr.Recognizer()\n",
        "# with sr.AudioFile(\"FIFA 17 _ FC Bayern Munich vs FC Barcelona - Full Gameplay (PS4_Xbox One)-vW2pn2LsrZU.wav\") as source:\n",
        "#     audio = r.record(source)\n",
        "\n",
        "# try:\n",
        "#     s = r.recognize_google(audio)\n",
        "#     print(\"Text: \"+s)\n",
        "# except Exception as e:\n",
        "#     print(\"Exception: \"+str(e))"
      ],
      "execution_count": 0,
      "outputs": []
    }
  ]
}